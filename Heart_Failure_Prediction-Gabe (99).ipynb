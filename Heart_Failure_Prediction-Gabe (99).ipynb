{
 "cells": [
  {
   "cell_type": "markdown",
   "metadata": {
    "id": "tbrM-dL7jR6E"
   },
   "source": [
    "### LOAD LIBRARIES"
   ]
  },
  {
   "cell_type": "code",
   "execution_count": 1,
   "metadata": {
    "id": "29yMiiX8fwOK",
    "tags": []
   },
   "outputs": [],
   "source": [
    "import numpy as np\n",
    "import pandas as pd\n",
    "\n",
    "import matplotlib.pyplot as plt\n",
    "import seaborn as sns\n",
    "\n",
    "from sklearn.neural_network import MLPClassifier\n",
    "\n",
    "from sklearn.metrics import accuracy_score, classification_report\n",
    "\n",
    "\n",
    "from sklearn.model_selection import train_test_split, GridSearchCV\n",
    "\n",
    "from sklearn.preprocessing import MinMaxScaler, StandardScaler"
   ]
  },
  {
   "cell_type": "markdown",
   "metadata": {
    "id": "7gxSLwRDjLfo"
   },
   "source": [
    "### LOAD THE DATA"
   ]
  },
  {
   "cell_type": "code",
   "execution_count": 2,
   "metadata": {
    "colab": {
     "base_uri": "https://localhost:8080/"
    },
    "id": "jIfM6kPKj4xx",
    "outputId": "08623c26-5a2b-457c-99c5-3a788e56da74",
    "tags": []
   },
   "outputs": [
    {
     "name": "stdout",
     "output_type": "stream",
     "text": [
      "<class 'pandas.core.frame.DataFrame'>\n",
      "RangeIndex: 5000 entries, 0 to 4999\n",
      "Data columns (total 13 columns):\n",
      " #   Column                    Non-Null Count  Dtype  \n",
      "---  ------                    --------------  -----  \n",
      " 0   age                       5000 non-null   float64\n",
      " 1   anaemia                   5000 non-null   int64  \n",
      " 2   creatinine_phosphokinase  5000 non-null   int64  \n",
      " 3   diabetes                  5000 non-null   int64  \n",
      " 4   ejection_fraction         5000 non-null   int64  \n",
      " 5   high_blood_pressure       5000 non-null   int64  \n",
      " 6   platelets                 5000 non-null   float64\n",
      " 7   serum_creatinine          5000 non-null   float64\n",
      " 8   serum_sodium              5000 non-null   int64  \n",
      " 9   sex                       5000 non-null   int64  \n",
      " 10  smoking                   5000 non-null   int64  \n",
      " 11  time                      5000 non-null   int64  \n",
      " 12  DEATH_EVENT               5000 non-null   int64  \n",
      "dtypes: float64(3), int64(10)\n",
      "memory usage: 507.9 KB\n"
     ]
    }
   ],
   "source": [
    "# Assuming the dataset is loaded into a DataFrame named data\n",
    "heart_failure = pd.read_csv('heart_failure_clinical_records.csv')\n",
    "\n",
    "heart_failure.info()"
   ]
  },
  {
   "cell_type": "markdown",
   "metadata": {},
   "source": [
    "### SCALING THE DATA USING MINMAXSCALER"
   ]
  },
  {
   "cell_type": "code",
   "execution_count": 3,
   "metadata": {
    "id": "N3Rt6TaPjNqK",
    "tags": []
   },
   "outputs": [],
   "source": [
    "# Separate features and target\n",
    "X = heart_failure.drop('DEATH_EVENT', axis=1)\n",
    "y = heart_failure['DEATH_EVENT']\n",
    "\n",
    "# numerical columns\n",
    "numerical_features = ['age', 'creatinine_phosphokinase', 'ejection_fraction',\n",
    "                      'platelets', 'serum_creatinine', 'serum_sodium', 'time']\n",
    "\n",
    "# categorical columns\n",
    "categorical_features = ['anaemia', 'diabetes', 'high_blood_pressure', 'sex', 'smoking']\n",
    "\n",
    "# Separate the columns to scale and the rest\n",
    "X_numerical = X[numerical_features]\n",
    "X_categorical = X[categorical_features]\n",
    "\n",
    "# Apply one-hot encoding to categorical features\n",
    "#X_categorial = pd.get_dummies(X_uncoded, drop_first=True)\n",
    "\n",
    "#Apply MinMax scaling to the continuous features\n",
    "scaler = MinMaxScaler()\n",
    "X_numerical = scaler.fit_transform(X_numerical)\n",
    "numerical_scaled = pd.DataFrame(X_numerical, columns=numerical_features)\n",
    "\n",
    "#Combine scaled continuous features with one-hot encoded categorical features\n",
    "X_combination = pd.concat([numerical_scaled, X_categorical], axis=1)\n"
   ]
  },
  {
   "cell_type": "markdown",
   "metadata": {
    "id": "dqMqIR1ll3zI"
   },
   "source": [
    "### SPLIT THE DATASET\n",
    "\n",
    "The X train will be used for training and validation in the `GridSearchCV` so as to determine the best parameters.\n",
    "\n",
    "We will use the test set to validate our model with the best hyperparameter as provided by `GridSearchCV`."
   ]
  },
  {
   "cell_type": "code",
   "execution_count": 4,
   "metadata": {
    "id": "FGBpu0pHl6tD",
    "tags": []
   },
   "outputs": [],
   "source": [
    "# split the dataset\n",
    "# Split the original training data into new training and test sets\n",
    "X_train, X_test, y_train, y_test = train_test_split(X_combination, y, test_size=0.3, random_state=42)"
   ]
  },
  {
   "cell_type": "markdown",
   "metadata": {
    "id": "Bq6NN--6jOhq"
   },
   "source": [
    "### TRAIN THE MODEL"
   ]
  },
  {
   "cell_type": "code",
   "execution_count": 5,
   "metadata": {
    "id": "xoLU7Yjia553",
    "tags": []
   },
   "outputs": [
    {
     "name": "stderr",
     "output_type": "stream",
     "text": [
      "/Users/soryn/anaconda3/lib/python3.11/site-packages/sklearn/neural_network/_multilayer_perceptron.py:691: ConvergenceWarning: Stochastic Optimizer: Maximum iterations (100) reached and the optimization hasn't converged yet.\n",
      "  warnings.warn(\n",
      "/Users/soryn/anaconda3/lib/python3.11/site-packages/sklearn/neural_network/_multilayer_perceptron.py:691: ConvergenceWarning: Stochastic Optimizer: Maximum iterations (100) reached and the optimization hasn't converged yet.\n",
      "  warnings.warn(\n",
      "/Users/soryn/anaconda3/lib/python3.11/site-packages/sklearn/neural_network/_multilayer_perceptron.py:691: ConvergenceWarning: Stochastic Optimizer: Maximum iterations (100) reached and the optimization hasn't converged yet.\n",
      "  warnings.warn(\n",
      "/Users/soryn/anaconda3/lib/python3.11/site-packages/sklearn/neural_network/_multilayer_perceptron.py:691: ConvergenceWarning: Stochastic Optimizer: Maximum iterations (100) reached and the optimization hasn't converged yet.\n",
      "  warnings.warn(\n",
      "/Users/soryn/anaconda3/lib/python3.11/site-packages/sklearn/neural_network/_multilayer_perceptron.py:691: ConvergenceWarning: Stochastic Optimizer: Maximum iterations (100) reached and the optimization hasn't converged yet.\n",
      "  warnings.warn(\n",
      "/Users/soryn/anaconda3/lib/python3.11/site-packages/sklearn/neural_network/_multilayer_perceptron.py:691: ConvergenceWarning: Stochastic Optimizer: Maximum iterations (100) reached and the optimization hasn't converged yet.\n",
      "  warnings.warn(\n",
      "/Users/soryn/anaconda3/lib/python3.11/site-packages/sklearn/neural_network/_multilayer_perceptron.py:691: ConvergenceWarning: Stochastic Optimizer: Maximum iterations (100) reached and the optimization hasn't converged yet.\n",
      "  warnings.warn(\n",
      "/Users/soryn/anaconda3/lib/python3.11/site-packages/sklearn/neural_network/_multilayer_perceptron.py:691: ConvergenceWarning: Stochastic Optimizer: Maximum iterations (100) reached and the optimization hasn't converged yet.\n",
      "  warnings.warn(\n",
      "/Users/soryn/anaconda3/lib/python3.11/site-packages/sklearn/neural_network/_multilayer_perceptron.py:691: ConvergenceWarning: Stochastic Optimizer: Maximum iterations (100) reached and the optimization hasn't converged yet.\n",
      "  warnings.warn(\n",
      "/Users/soryn/anaconda3/lib/python3.11/site-packages/sklearn/neural_network/_multilayer_perceptron.py:691: ConvergenceWarning: Stochastic Optimizer: Maximum iterations (100) reached and the optimization hasn't converged yet.\n",
      "  warnings.warn(\n",
      "/Users/soryn/anaconda3/lib/python3.11/site-packages/sklearn/neural_network/_multilayer_perceptron.py:691: ConvergenceWarning: Stochastic Optimizer: Maximum iterations (100) reached and the optimization hasn't converged yet.\n",
      "  warnings.warn(\n",
      "/Users/soryn/anaconda3/lib/python3.11/site-packages/sklearn/neural_network/_multilayer_perceptron.py:691: ConvergenceWarning: Stochastic Optimizer: Maximum iterations (100) reached and the optimization hasn't converged yet.\n",
      "  warnings.warn(\n",
      "/Users/soryn/anaconda3/lib/python3.11/site-packages/sklearn/neural_network/_multilayer_perceptron.py:691: ConvergenceWarning: Stochastic Optimizer: Maximum iterations (100) reached and the optimization hasn't converged yet.\n",
      "  warnings.warn(\n",
      "/Users/soryn/anaconda3/lib/python3.11/site-packages/sklearn/neural_network/_multilayer_perceptron.py:691: ConvergenceWarning: Stochastic Optimizer: Maximum iterations (100) reached and the optimization hasn't converged yet.\n",
      "  warnings.warn(\n",
      "/Users/soryn/anaconda3/lib/python3.11/site-packages/sklearn/neural_network/_multilayer_perceptron.py:691: ConvergenceWarning: Stochastic Optimizer: Maximum iterations (100) reached and the optimization hasn't converged yet.\n",
      "  warnings.warn(\n",
      "/Users/soryn/anaconda3/lib/python3.11/site-packages/sklearn/neural_network/_multilayer_perceptron.py:691: ConvergenceWarning: Stochastic Optimizer: Maximum iterations (100) reached and the optimization hasn't converged yet.\n",
      "  warnings.warn(\n",
      "/Users/soryn/anaconda3/lib/python3.11/site-packages/sklearn/neural_network/_multilayer_perceptron.py:691: ConvergenceWarning: Stochastic Optimizer: Maximum iterations (100) reached and the optimization hasn't converged yet.\n",
      "  warnings.warn(\n",
      "/Users/soryn/anaconda3/lib/python3.11/site-packages/sklearn/neural_network/_multilayer_perceptron.py:691: ConvergenceWarning: Stochastic Optimizer: Maximum iterations (100) reached and the optimization hasn't converged yet.\n",
      "  warnings.warn(\n",
      "/Users/soryn/anaconda3/lib/python3.11/site-packages/sklearn/neural_network/_multilayer_perceptron.py:691: ConvergenceWarning: Stochastic Optimizer: Maximum iterations (100) reached and the optimization hasn't converged yet.\n",
      "  warnings.warn(\n",
      "/Users/soryn/anaconda3/lib/python3.11/site-packages/sklearn/neural_network/_multilayer_perceptron.py:691: ConvergenceWarning: Stochastic Optimizer: Maximum iterations (100) reached and the optimization hasn't converged yet.\n",
      "  warnings.warn(\n",
      "/Users/soryn/anaconda3/lib/python3.11/site-packages/sklearn/neural_network/_multilayer_perceptron.py:691: ConvergenceWarning: Stochastic Optimizer: Maximum iterations (100) reached and the optimization hasn't converged yet.\n",
      "  warnings.warn(\n",
      "/Users/soryn/anaconda3/lib/python3.11/site-packages/sklearn/neural_network/_multilayer_perceptron.py:691: ConvergenceWarning: Stochastic Optimizer: Maximum iterations (100) reached and the optimization hasn't converged yet.\n",
      "  warnings.warn(\n",
      "/Users/soryn/anaconda3/lib/python3.11/site-packages/sklearn/neural_network/_multilayer_perceptron.py:691: ConvergenceWarning: Stochastic Optimizer: Maximum iterations (100) reached and the optimization hasn't converged yet.\n",
      "  warnings.warn(\n",
      "/Users/soryn/anaconda3/lib/python3.11/site-packages/sklearn/neural_network/_multilayer_perceptron.py:691: ConvergenceWarning: Stochastic Optimizer: Maximum iterations (100) reached and the optimization hasn't converged yet.\n",
      "  warnings.warn(\n",
      "/Users/soryn/anaconda3/lib/python3.11/site-packages/sklearn/neural_network/_multilayer_perceptron.py:691: ConvergenceWarning: Stochastic Optimizer: Maximum iterations (100) reached and the optimization hasn't converged yet.\n",
      "  warnings.warn(\n",
      "/Users/soryn/anaconda3/lib/python3.11/site-packages/sklearn/neural_network/_multilayer_perceptron.py:691: ConvergenceWarning: Stochastic Optimizer: Maximum iterations (100) reached and the optimization hasn't converged yet.\n",
      "  warnings.warn(\n",
      "/Users/soryn/anaconda3/lib/python3.11/site-packages/sklearn/neural_network/_multilayer_perceptron.py:691: ConvergenceWarning: Stochastic Optimizer: Maximum iterations (100) reached and the optimization hasn't converged yet.\n",
      "  warnings.warn(\n",
      "/Users/soryn/anaconda3/lib/python3.11/site-packages/sklearn/neural_network/_multilayer_perceptron.py:691: ConvergenceWarning: Stochastic Optimizer: Maximum iterations (100) reached and the optimization hasn't converged yet.\n",
      "  warnings.warn(\n",
      "/Users/soryn/anaconda3/lib/python3.11/site-packages/sklearn/neural_network/_multilayer_perceptron.py:691: ConvergenceWarning: Stochastic Optimizer: Maximum iterations (100) reached and the optimization hasn't converged yet.\n",
      "  warnings.warn(\n",
      "/Users/soryn/anaconda3/lib/python3.11/site-packages/sklearn/neural_network/_multilayer_perceptron.py:691: ConvergenceWarning: Stochastic Optimizer: Maximum iterations (100) reached and the optimization hasn't converged yet.\n",
      "  warnings.warn(\n",
      "/Users/soryn/anaconda3/lib/python3.11/site-packages/sklearn/neural_network/_multilayer_perceptron.py:691: ConvergenceWarning: Stochastic Optimizer: Maximum iterations (100) reached and the optimization hasn't converged yet.\n",
      "  warnings.warn(\n",
      "/Users/soryn/anaconda3/lib/python3.11/site-packages/sklearn/neural_network/_multilayer_perceptron.py:691: ConvergenceWarning: Stochastic Optimizer: Maximum iterations (100) reached and the optimization hasn't converged yet.\n",
      "  warnings.warn(\n",
      "/Users/soryn/anaconda3/lib/python3.11/site-packages/sklearn/neural_network/_multilayer_perceptron.py:691: ConvergenceWarning: Stochastic Optimizer: Maximum iterations (200) reached and the optimization hasn't converged yet.\n",
      "  warnings.warn(\n",
      "/Users/soryn/anaconda3/lib/python3.11/site-packages/sklearn/neural_network/_multilayer_perceptron.py:691: ConvergenceWarning: Stochastic Optimizer: Maximum iterations (100) reached and the optimization hasn't converged yet.\n",
      "  warnings.warn(\n",
      "/Users/soryn/anaconda3/lib/python3.11/site-packages/sklearn/neural_network/_multilayer_perceptron.py:691: ConvergenceWarning: Stochastic Optimizer: Maximum iterations (100) reached and the optimization hasn't converged yet.\n",
      "  warnings.warn(\n",
      "/Users/soryn/anaconda3/lib/python3.11/site-packages/sklearn/neural_network/_multilayer_perceptron.py:691: ConvergenceWarning: Stochastic Optimizer: Maximum iterations (100) reached and the optimization hasn't converged yet.\n",
      "  warnings.warn(\n",
      "/Users/soryn/anaconda3/lib/python3.11/site-packages/sklearn/neural_network/_multilayer_perceptron.py:691: ConvergenceWarning: Stochastic Optimizer: Maximum iterations (100) reached and the optimization hasn't converged yet.\n",
      "  warnings.warn(\n",
      "/Users/soryn/anaconda3/lib/python3.11/site-packages/sklearn/neural_network/_multilayer_perceptron.py:691: ConvergenceWarning: Stochastic Optimizer: Maximum iterations (100) reached and the optimization hasn't converged yet.\n",
      "  warnings.warn(\n"
     ]
    },
    {
     "data": {
      "text/html": [
       "<style>#sk-container-id-1 {color: black;}#sk-container-id-1 pre{padding: 0;}#sk-container-id-1 div.sk-toggleable {background-color: white;}#sk-container-id-1 label.sk-toggleable__label {cursor: pointer;display: block;width: 100%;margin-bottom: 0;padding: 0.3em;box-sizing: border-box;text-align: center;}#sk-container-id-1 label.sk-toggleable__label-arrow:before {content: \"▸\";float: left;margin-right: 0.25em;color: #696969;}#sk-container-id-1 label.sk-toggleable__label-arrow:hover:before {color: black;}#sk-container-id-1 div.sk-estimator:hover label.sk-toggleable__label-arrow:before {color: black;}#sk-container-id-1 div.sk-toggleable__content {max-height: 0;max-width: 0;overflow: hidden;text-align: left;background-color: #f0f8ff;}#sk-container-id-1 div.sk-toggleable__content pre {margin: 0.2em;color: black;border-radius: 0.25em;background-color: #f0f8ff;}#sk-container-id-1 input.sk-toggleable__control:checked~div.sk-toggleable__content {max-height: 200px;max-width: 100%;overflow: auto;}#sk-container-id-1 input.sk-toggleable__control:checked~label.sk-toggleable__label-arrow:before {content: \"▾\";}#sk-container-id-1 div.sk-estimator input.sk-toggleable__control:checked~label.sk-toggleable__label {background-color: #d4ebff;}#sk-container-id-1 div.sk-label input.sk-toggleable__control:checked~label.sk-toggleable__label {background-color: #d4ebff;}#sk-container-id-1 input.sk-hidden--visually {border: 0;clip: rect(1px 1px 1px 1px);clip: rect(1px, 1px, 1px, 1px);height: 1px;margin: -1px;overflow: hidden;padding: 0;position: absolute;width: 1px;}#sk-container-id-1 div.sk-estimator {font-family: monospace;background-color: #f0f8ff;border: 1px dotted black;border-radius: 0.25em;box-sizing: border-box;margin-bottom: 0.5em;}#sk-container-id-1 div.sk-estimator:hover {background-color: #d4ebff;}#sk-container-id-1 div.sk-parallel-item::after {content: \"\";width: 100%;border-bottom: 1px solid gray;flex-grow: 1;}#sk-container-id-1 div.sk-label:hover label.sk-toggleable__label {background-color: #d4ebff;}#sk-container-id-1 div.sk-serial::before {content: \"\";position: absolute;border-left: 1px solid gray;box-sizing: border-box;top: 0;bottom: 0;left: 50%;z-index: 0;}#sk-container-id-1 div.sk-serial {display: flex;flex-direction: column;align-items: center;background-color: white;padding-right: 0.2em;padding-left: 0.2em;position: relative;}#sk-container-id-1 div.sk-item {position: relative;z-index: 1;}#sk-container-id-1 div.sk-parallel {display: flex;align-items: stretch;justify-content: center;background-color: white;position: relative;}#sk-container-id-1 div.sk-item::before, #sk-container-id-1 div.sk-parallel-item::before {content: \"\";position: absolute;border-left: 1px solid gray;box-sizing: border-box;top: 0;bottom: 0;left: 50%;z-index: -1;}#sk-container-id-1 div.sk-parallel-item {display: flex;flex-direction: column;z-index: 1;position: relative;background-color: white;}#sk-container-id-1 div.sk-parallel-item:first-child::after {align-self: flex-end;width: 50%;}#sk-container-id-1 div.sk-parallel-item:last-child::after {align-self: flex-start;width: 50%;}#sk-container-id-1 div.sk-parallel-item:only-child::after {width: 0;}#sk-container-id-1 div.sk-dashed-wrapped {border: 1px dashed gray;margin: 0 0.4em 0.5em 0.4em;box-sizing: border-box;padding-bottom: 0.4em;background-color: white;}#sk-container-id-1 div.sk-label label {font-family: monospace;font-weight: bold;display: inline-block;line-height: 1.2em;}#sk-container-id-1 div.sk-label-container {text-align: center;}#sk-container-id-1 div.sk-container {/* jupyter's `normalize.less` sets `[hidden] { display: none; }` but bootstrap.min.css set `[hidden] { display: none !important; }` so we also need the `!important` here to be able to override the default hidden behavior on the sphinx rendered scikit-learn.org. See: https://github.com/scikit-learn/scikit-learn/issues/21755 */display: inline-block !important;position: relative;}#sk-container-id-1 div.sk-text-repr-fallback {display: none;}</style><div id=\"sk-container-id-1\" class=\"sk-top-container\"><div class=\"sk-text-repr-fallback\"><pre>GridSearchCV(cv=5,\n",
       "             estimator=MLPClassifier(early_stopping=True, n_iter_no_change=20,\n",
       "                                     solver=&#x27;sgd&#x27;, verbose=0),\n",
       "             param_grid={&#x27;batch_size&#x27;: [32, 64, 96, 128],\n",
       "                         &#x27;hidden_layer_sizes&#x27;: [(100, 100), (100, 150),\n",
       "                                                (100, 200)],\n",
       "                         &#x27;learning_rate_init&#x27;: [0.001, 0.01, 0.1],\n",
       "                         &#x27;max_iter&#x27;: range(100, 600, 100)},\n",
       "             scoring=&#x27;accuracy&#x27;)</pre><b>In a Jupyter environment, please rerun this cell to show the HTML representation or trust the notebook. <br />On GitHub, the HTML representation is unable to render, please try loading this page with nbviewer.org.</b></div><div class=\"sk-container\" hidden><div class=\"sk-item sk-dashed-wrapped\"><div class=\"sk-label-container\"><div class=\"sk-label sk-toggleable\"><input class=\"sk-toggleable__control sk-hidden--visually\" id=\"sk-estimator-id-1\" type=\"checkbox\" ><label for=\"sk-estimator-id-1\" class=\"sk-toggleable__label sk-toggleable__label-arrow\">GridSearchCV</label><div class=\"sk-toggleable__content\"><pre>GridSearchCV(cv=5,\n",
       "             estimator=MLPClassifier(early_stopping=True, n_iter_no_change=20,\n",
       "                                     solver=&#x27;sgd&#x27;, verbose=0),\n",
       "             param_grid={&#x27;batch_size&#x27;: [32, 64, 96, 128],\n",
       "                         &#x27;hidden_layer_sizes&#x27;: [(100, 100), (100, 150),\n",
       "                                                (100, 200)],\n",
       "                         &#x27;learning_rate_init&#x27;: [0.001, 0.01, 0.1],\n",
       "                         &#x27;max_iter&#x27;: range(100, 600, 100)},\n",
       "             scoring=&#x27;accuracy&#x27;)</pre></div></div></div><div class=\"sk-parallel\"><div class=\"sk-parallel-item\"><div class=\"sk-item\"><div class=\"sk-label-container\"><div class=\"sk-label sk-toggleable\"><input class=\"sk-toggleable__control sk-hidden--visually\" id=\"sk-estimator-id-2\" type=\"checkbox\" ><label for=\"sk-estimator-id-2\" class=\"sk-toggleable__label sk-toggleable__label-arrow\">estimator: MLPClassifier</label><div class=\"sk-toggleable__content\"><pre>MLPClassifier(early_stopping=True, n_iter_no_change=20, solver=&#x27;sgd&#x27;, verbose=0)</pre></div></div></div><div class=\"sk-serial\"><div class=\"sk-item\"><div class=\"sk-estimator sk-toggleable\"><input class=\"sk-toggleable__control sk-hidden--visually\" id=\"sk-estimator-id-3\" type=\"checkbox\" ><label for=\"sk-estimator-id-3\" class=\"sk-toggleable__label sk-toggleable__label-arrow\">MLPClassifier</label><div class=\"sk-toggleable__content\"><pre>MLPClassifier(early_stopping=True, n_iter_no_change=20, solver=&#x27;sgd&#x27;, verbose=0)</pre></div></div></div></div></div></div></div></div></div></div>"
      ],
      "text/plain": [
       "GridSearchCV(cv=5,\n",
       "             estimator=MLPClassifier(early_stopping=True, n_iter_no_change=20,\n",
       "                                     solver='sgd', verbose=0),\n",
       "             param_grid={'batch_size': [32, 64, 96, 128],\n",
       "                         'hidden_layer_sizes': [(100, 100), (100, 150),\n",
       "                                                (100, 200)],\n",
       "                         'learning_rate_init': [0.001, 0.01, 0.1],\n",
       "                         'max_iter': range(100, 600, 100)},\n",
       "             scoring='accuracy')"
      ]
     },
     "execution_count": 5,
     "metadata": {},
     "output_type": "execute_result"
    }
   ],
   "source": [
    "clf = MLPClassifier(\n",
    "    solver='sgd',\n",
    "    learning_rate='constant',\n",
    "    early_stopping=True,\n",
    "    n_iter_no_change=20,\n",
    "    verbose=0\n",
    ")\n",
    "\n",
    "# Initialize the classifier with the best learning rate, epochs, and batch size\n",
    "best_learning_rate = [0.001, 0.01, 0.1]\n",
    "best_epochs = range(100, 600, 100)\n",
    "best_batch_size = [i*32 for i in range(1, 5)]\n",
    "\n",
    "# Define the parameter grid for hyperparameter tuning\n",
    "param_grid = {'hidden_layer_sizes': [(100,100), (100,150), (100,200)],\n",
    "              'learning_rate_init': best_learning_rate,\n",
    "              'max_iter': best_epochs,\n",
    "              \"batch_size\":best_batch_size}\n",
    "\n",
    "# Perform grid search cross-validation for remaining hyperparameters\n",
    "grid_search = GridSearchCV(clf, param_grid, cv=5, scoring='accuracy')\n",
    "\n",
    "\n",
    "# x_train and y_train will be used in the cross-validation model\n",
    "grid_search.fit(X_train, y_train)"
   ]
  },
  {
   "cell_type": "code",
   "execution_count": 6,
   "metadata": {
    "id": "e1r9L6MAnX9s"
   },
   "outputs": [
    {
     "name": "stdout",
     "output_type": "stream",
     "text": [
      "Best Hyperparameters:  {'batch_size': 96, 'hidden_layer_sizes': (100, 100), 'learning_rate_init': 0.1, 'max_iter': 500}\n"
     ]
    }
   ],
   "source": [
    "# Get the best hyperparameters\n",
    "best_params = grid_search.best_params_\n",
    "print(\"Best Hyperparameters: \", best_params)"
   ]
  },
  {
   "cell_type": "markdown",
   "metadata": {
    "id": "k4-tIC38ni3l"
   },
   "source": [
    "### USE THE BEST ESTIMATOR ON THE `X_test`"
   ]
  },
  {
   "cell_type": "code",
   "execution_count": 7,
   "metadata": {
    "id": "DcxNDsjnnfeL"
   },
   "outputs": [],
   "source": [
    "# Evaluate the best model on the test set\n",
    "best_clf = grid_search.best_estimator_\n",
    "y_pred_test_best = best_clf.predict(X_test)"
   ]
  },
  {
   "cell_type": "code",
   "execution_count": 8,
   "metadata": {
    "id": "PrGgeOf2nwGO"
   },
   "outputs": [
    {
     "name": "stdout",
     "output_type": "stream",
     "text": [
      "Best Model Test Accuracy: 0.972\n"
     ]
    }
   ],
   "source": [
    "# accuracy of the best estimator (model) on the test set\n",
    "test_accuracy_best = accuracy_score(y_test, y_pred_test_best)\n",
    "print(\"Best Model Test Accuracy:\", test_accuracy_best)"
   ]
  },
  {
   "cell_type": "code",
   "execution_count": 9,
   "metadata": {
    "id": "6ikMdA85nWO1"
   },
   "outputs": [
    {
     "name": "stdout",
     "output_type": "stream",
     "text": [
      "Classification Report for Best Model:\n",
      "              precision    recall  f1-score   support\n",
      "\n",
      "           0       0.98      0.98      0.98      1040\n",
      "           1       0.95      0.96      0.95       460\n",
      "\n",
      "    accuracy                           0.97      1500\n",
      "   macro avg       0.97      0.97      0.97      1500\n",
      "weighted avg       0.97      0.97      0.97      1500\n",
      "\n"
     ]
    }
   ],
   "source": [
    "# Classification report for the best estimator (model)\n",
    "print(\"Classification Report for Best Model:\")\n",
    "print(classification_report(y_test, y_pred_test_best))"
   ]
  },
  {
   "cell_type": "markdown",
   "metadata": {},
   "source": [
    "### TRAINING THE WHOLE DATASET"
   ]
  },
  {
   "cell_type": "code",
   "execution_count": 10,
   "metadata": {},
   "outputs": [
    {
     "name": "stdout",
     "output_type": "stream",
     "text": [
      "Final model saved to final_best_model.pkl\n"
     ]
    }
   ],
   "source": [
    "best_clf = MLPClassifier(\n",
    "    hidden_layer_sizes=best_params['hidden_layer_sizes'],\n",
    "    learning_rate_init=best_params['learning_rate_init'],\n",
    "    max_iter=best_params['max_iter'],\n",
    "    batch_size=best_params['batch_size'],\n",
    "    solver='sgd',\n",
    "    learning_rate='constant',\n",
    "    early_stopping=True,\n",
    "    n_iter_no_change=20,\n",
    "    verbose=0\n",
    ")\n",
    "\n",
    "best_clf.fit(X_combination, y)\n",
    "\n",
    "# Save the final model\n",
    "import joblib\n",
    "joblib.dump(best_clf, 'final_best_model.pkl')\n",
    "print(\"Final model saved to final_best_model.pkl\")"
   ]
  },
  {
   "cell_type": "code",
   "execution_count": 11,
   "metadata": {},
   "outputs": [
    {
     "name": "stdout",
     "output_type": "stream",
     "text": [
      "Cross-validation accuracy scores: [0.907 0.983 0.986 0.999 0.996]\n",
      "Mean cross-validation accuracy: 0.9742000000000001\n"
     ]
    }
   ],
   "source": [
    "from sklearn.model_selection import cross_val_score\n",
    "\n",
    "# Perform cross-validation and print the mean accuracy\n",
    "cv_scores = cross_val_score(best_clf, X_combination, y, cv=5, scoring='accuracy')\n",
    "print(\"Cross-validation accuracy scores:\", cv_scores)\n",
    "print(\"Mean cross-validation accuracy:\", cv_scores.mean())\n"
   ]
  },
  {
   "cell_type": "code",
   "execution_count": 12,
   "metadata": {},
   "outputs": [
    {
     "name": "stdout",
     "output_type": "stream",
     "text": [
      "Predictions on new data: [1 0]\n"
     ]
    },
    {
     "name": "stderr",
     "output_type": "stream",
     "text": [
      "/Users/soryn/anaconda3/lib/python3.11/site-packages/sklearn/base.py:464: UserWarning: X does not have valid feature names, but MLPClassifier was fitted with feature names\n",
      "  warnings.warn(\n"
     ]
    }
   ],
   "source": [
    "# Load the final model from the file\n",
    "final_model = joblib.load('final_best_model.pkl')\n",
    "\n",
    "\n",
    "new_data = np.array([[0.872727, 0.992498, 0.879697, 0.878833, 0.099888, 0.67714, 0.298932, 0, 0, 0, 1, 1],\n",
    "                    [0.4754545, 0.104210, 0.1686667, 0.3789314, 0.255618, 0.485714, 0.722420, 0, 0, 0, 1, 0]])\n",
    "    \n",
    "\n",
    "\n",
    "# Make predictions\n",
    "predictions = final_model.predict(new_data)\n",
    "print(\"Predictions on new data:\", predictions)\n"
   ]
  },
  {
   "cell_type": "code",
   "execution_count": 24,
   "metadata": {},
   "outputs": [
    {
     "name": "stdout",
     "output_type": "stream",
     "text": [
      "Prepared Data for Prediction:\n",
      "         age  creatinine_phosphokinase  ejection_fraction  platelets  \\\n",
      "0 -0.218182                  0.014927                1.0   0.575706   \n",
      "\n",
      "   serum_creatinine  serum_sodium      time  anaemia  diabetes  \\\n",
      "0          0.101124           1.2  1.053381        1         1   \n",
      "\n",
      "   high_blood_pressure  sex  smoking  \n",
      "0                    1    0        1  \n",
      "Predictions on new data: [0]\n"
     ]
    }
   ],
   "source": [
    "import pandas as pd\n",
    "from sklearn.preprocessing import MinMaxScaler\n",
    "\n",
    "# Assuming the heart_failure DataFrame is already loaded\n",
    "\n",
    "# Separate features and target\n",
    "X = heart_failure.drop('DEATH_EVENT', axis=1)\n",
    "y = heart_failure['DEATH_EVENT']\n",
    "\n",
    "# Numerical columns\n",
    "numerical_features = ['age', 'creatinine_phosphokinase', 'ejection_fraction',\n",
    "                      'platelets', 'serum_creatinine', 'serum_sodium', 'time']\n",
    "\n",
    "# Categorical columns\n",
    "categorical_features = ['anaemia', 'diabetes', 'high_blood_pressure', 'sex', 'smoking']\n",
    "\n",
    "# Separate the columns to scale and the rest\n",
    "X_numerical = X[numerical_features]\n",
    "X_categorical = X[categorical_features]\n",
    "\n",
    "# Apply MinMax scaling to the continuous features\n",
    "scaler = MinMaxScaler()\n",
    "X_numerical_scaled = scaler.fit_transform(X_numerical)\n",
    "numerical_scaled = pd.DataFrame(X_numerical_scaled, columns=numerical_features)\n",
    "\n",
    "# Combine scaled continuous features with categorical features\n",
    "X_combination = pd.concat([numerical_scaled, X_categorical.reset_index(drop=True)], axis=1)\n",
    "\n",
    "# Example input data for a 93-year-old male\n",
    "input_data = {\n",
    "    'age': 28,\n",
    "    'creatinine_phosphokinase': 140,  # Example value\n",
    "    'ejection_fraction': 80,  # Example value\n",
    "    'platelets': 500000,  # Example value\n",
    "    'serum_creatinine': 1.4,  # Example value\n",
    "    'serum_sodium': 155,  # Example value\n",
    "    'time': 300,  # Example value\n",
    "    'anaemia': 1,  # Example value\n",
    "    'diabetes': 1,  # Example value\n",
    "    'high_blood_pressure': 1,  # Example value\n",
    "    'sex': 0,  # Female\n",
    "    'smoking': 1  # Example value\n",
    "}\n",
    "\n",
    "# Convert the input data to a DataFrame\n",
    "input_df = pd.DataFrame([input_data])\n",
    "\n",
    "# Separate numerical and categorical features from the input data\n",
    "input_numerical = input_df[numerical_features]\n",
    "input_categorical = input_df[categorical_features]\n",
    "\n",
    "# Scale the numerical features using the same scaler\n",
    "input_numerical_scaled = scaler.transform(input_numerical)\n",
    "input_numerical_scaled_df = pd.DataFrame(input_numerical_scaled, columns=numerical_features)\n",
    "\n",
    "# Combine scaled numerical features with categorical features\n",
    "input_combination = pd.concat([input_numerical_scaled_df, input_categorical.reset_index(drop=True)], axis=1)\n",
    "\n",
    "print(\"Prepared Data for Prediction:\\n\", input_combination)\n",
    "\n",
    "# Make predictions\n",
    "predictions = final_model.predict(input_combination)\n",
    "print(\"Predictions on new data:\", predictions)\n"
   ]
  },
  {
   "cell_type": "code",
   "execution_count": 23,
   "metadata": {
    "tags": []
   },
   "outputs": [
    {
     "name": "stdout",
     "output_type": "stream",
     "text": [
      "<class 'pandas.core.frame.DataFrame'>\n",
      "RangeIndex: 13 entries, 0 to 12\n",
      "Data columns (total 12 columns):\n",
      " #   Column                    Non-Null Count  Dtype  \n",
      "---  ------                    --------------  -----  \n",
      " 0   Age                       13 non-null     int64  \n",
      " 1   creatinine_phosphokinase  13 non-null     int64  \n",
      " 2   ejection_fraction         13 non-null     int64  \n",
      " 3   platelets                 13 non-null     int64  \n",
      " 4   serum_creatinine          13 non-null     float64\n",
      " 5   serum_sodium              13 non-null     int64  \n",
      " 6   time                      13 non-null     int64  \n",
      " 7   anaemia                   13 non-null     int64  \n",
      " 8   diabetes                  13 non-null     int64  \n",
      " 9   high_blood_pressure       13 non-null     int64  \n",
      " 10  sex                       13 non-null     int64  \n",
      " 11  smoking                   13 non-null     int64  \n",
      "dtypes: float64(1), int64(11)\n",
      "memory usage: 1.3 KB\n",
      "Predictions on new data: [1 1 0 1 0 1 1 1 1 1 0 1 1]\n"
     ]
    }
   ],
   "source": [
    "Test_heart_failure = pd.read_csv('test_data2.csv')\n",
    " \n",
    "Test_heart_failure.info()\n",
    " \n",
    "# numerical columns\n",
    "test_numerical_features = ['Age', 'creatinine_phosphokinase', 'ejection_fraction',\n",
    "                      'platelets', 'serum_creatinine', 'serum_sodium', 'time']\n",
    " \n",
    "# categorical columns\n",
    "test_categorical_features = ['anaemia', 'diabetes', 'high_blood_pressure', 'sex', 'smoking']\n",
    " \n",
    "# Separate the columns to scale and the rest\n",
    "X_numerical = Test_heart_failure[test_numerical_features]\n",
    "X_categorical = Test_heart_failure[test_categorical_features]\n",
    " \n",
    "# Apply one-hot encoding to categorical features\n",
    "#X_categorial = pd.get_dummies(X_uncoded, drop_first=True)\n",
    " \n",
    "#Apply MinMax scaling to the continuous features\n",
    "scaler = MinMaxScaler()\n",
    "X_numerical = scaler.fit_transform(X_numerical)\n",
    "numerical_scaled = pd.DataFrame(X_numerical, columns=numerical_features)\n",
    " \n",
    "#Combine scaled continuous features with one-hot encoded categorical features\n",
    "X_combination_test = pd.concat([numerical_scaled, X_categorical], axis=1)\n",
    "\n",
    "predictions = final_model.predict(X_combination_test)\n",
    "print(\"Predictions on new data:\", predictions)"
   ]
  }
 ],
 "metadata": {
  "colab": {
   "provenance": []
  },
  "kernelspec": {
   "display_name": "Python 3 (ipykernel)",
   "language": "python",
   "name": "python3"
  },
  "language_info": {
   "codemirror_mode": {
    "name": "ipython",
    "version": 3
   },
   "file_extension": ".py",
   "mimetype": "text/x-python",
   "name": "python",
   "nbconvert_exporter": "python",
   "pygments_lexer": "ipython3",
   "version": "3.11.5"
  }
 },
 "nbformat": 4,
 "nbformat_minor": 4
}
